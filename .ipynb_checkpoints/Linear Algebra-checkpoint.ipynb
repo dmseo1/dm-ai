{
 "cells": [
  {
   "cell_type": "code",
   "execution_count": 1,
   "metadata": {},
   "outputs": [
    {
     "name": "stdout",
     "output_type": "stream",
     "text": [
      "sqrt(dot(x, x)) =  5.0\n",
      "sqrt(sum(x, x)) =  5.0\n",
      "norm(x) =  5.0\n"
     ]
    }
   ],
   "source": [
    "import numpy as np\n",
    "x = np.array([3, 4])\n",
    "print(\"sqrt(dot(x, x)) = \", np.sqrt(np.dot(x, x)))\n",
    "print(\"sqrt(sum(x, x)) = \", np.sqrt(np.sum(x * x))) # \n",
    "print(\"norm(x) = \" , np.linalg.norm(x))"
   ]
  },
  {
   "cell_type": "code",
   "execution_count": 2,
   "metadata": {},
   "outputs": [
    {
     "name": "stdout",
     "output_type": "stream",
     "text": [
      "norm(x) =  9.273618495495704\n"
     ]
    }
   ],
   "source": [
    "x = np.array([3, 4, 5, 6])\n",
    "print(\"norm(x) = \", np.linalg.norm(x))"
   ]
  },
  {
   "cell_type": "code",
   "execution_count": 3,
   "metadata": {},
   "outputs": [
    {
     "name": "stdout",
     "output_type": "stream",
     "text": [
      "[0.6 0.8]\n",
      "1.0\n"
     ]
    }
   ],
   "source": [
    "v = np.array([3, 4])\n",
    "u = v / np.linalg.norm(v)\n",
    "print(u)\n",
    "print(np.linalg.norm(u))"
   ]
  },
  {
   "cell_type": "code",
   "execution_count": 4,
   "metadata": {},
   "outputs": [
    {
     "name": "stdout",
     "output_type": "stream",
     "text": [
      "[0.32349832 0.43133109 0.53916387 0.64699664]\n"
     ]
    }
   ],
   "source": [
    "v = np.array([3, 4, 5, 6])\n",
    "u = v / np.linalg.norm(v)\n",
    "print(u)"
   ]
  },
  {
   "cell_type": "code",
   "execution_count": 5,
   "metadata": {},
   "outputs": [
    {
     "name": "stdout",
     "output_type": "stream",
     "text": [
      "[34 20]\n"
     ]
    }
   ],
   "source": [
    "a = np.array([8, 13])\n",
    "b = np.array([26, 7])\n",
    "c = a + b\n",
    "print(c)"
   ]
  },
  {
   "cell_type": "code",
   "execution_count": 6,
   "metadata": {},
   "outputs": [
    {
     "name": "stdout",
     "output_type": "stream",
     "text": [
      "[ 7 13]\n"
     ]
    }
   ],
   "source": [
    "d = np.array([4, 5])\n",
    "e = np.array([3, 8])\n",
    "f = d + e\n",
    "print(f)"
   ]
  },
  {
   "cell_type": "code",
   "execution_count": 7,
   "metadata": {},
   "outputs": [
    {
     "name": "stdout",
     "output_type": "stream",
     "text": [
      "0.6\n",
      "-0.6\n"
     ]
    }
   ],
   "source": [
    "hero = np.array([0, 1])\n",
    "enemyA = np.array([4, 3])\n",
    "enemyB = np.array([4, -3])\n",
    "hero_norm = np.linalg.norm(hero)\n",
    "enemyA_norm = np.linalg.norm(enemyA)\n",
    "enemyB_norm = np.linalg.norm(enemyB)\n",
    "h_eA_cos = np.dot(hero, enemyA) / (hero_norm * enemyA_norm)\n",
    "h_eB_cos = np.dot(hero, enemyB) / (hero_norm * enemyB_norm)\n",
    "print(h_eA_cos)\n",
    "print(h_eB_cos)"
   ]
  },
  {
   "cell_type": "code",
   "execution_count": 8,
   "metadata": {},
   "outputs": [
    {
     "name": "stdout",
     "output_type": "stream",
     "text": [
      "[3.2 2.4]\n"
     ]
    }
   ],
   "source": [
    "y = np.array([2, 4])\n",
    "x = np.array([4, 3])\n",
    "x_n = x / np.linalg.norm(x)\n",
    "proj_result = np.dot(y, x_n) * x_n\n",
    "print(proj_result)"
   ]
  },
  {
   "cell_type": "code",
   "execution_count": 9,
   "metadata": {},
   "outputs": [
    {
     "name": "stdout",
     "output_type": "stream",
     "text": [
      "[3. 0.]\n"
     ]
    }
   ],
   "source": [
    "y = np.array([3, 4])\n",
    "x = np.array([1, 0])\n",
    "x_n = x / np.linalg.norm(x)\n",
    "proj_result = np.dot(y, x_n) * x_n\n",
    "print(proj_result)"
   ]
  },
  {
   "cell_type": "code",
   "execution_count": 10,
   "metadata": {},
   "outputs": [
    {
     "name": "stdout",
     "output_type": "stream",
     "text": [
      "[0. 4.]\n"
     ]
    }
   ],
   "source": [
    "y = np.array([3, 4])\n",
    "x = np.array([0, 1])\n",
    "x_n = x / np.linalg.norm(x)\n",
    "proj_result = np.dot(y, x_n) * x_n\n",
    "print(proj_result)"
   ]
  },
  {
   "cell_type": "code",
   "execution_count": 11,
   "metadata": {},
   "outputs": [
    {
     "name": "stdout",
     "output_type": "stream",
     "text": [
      "A = \n",
      " [[1 2]\n",
      " [3 4]]\n",
      "Inverse of A = \n",
      " [[-2.000  1.000]\n",
      " [ 1.500 -0.500]]\n",
      "A * A_inv = \n",
      " [[ 1.000  0.000]\n",
      " [ 0.000  1.000]]\n",
      "A_inv * A = \n",
      " [[ 1.000  0.000]\n",
      " [ 0.000  1.000]]\n"
     ]
    }
   ],
   "source": [
    "A = np.array([[1,2], [3,4]])\n",
    "A_inv = np.linalg.inv(A)\n",
    "np.set_printoptions(formatter={'float' : '{: 0.3f}'.format})\n",
    "print(\"A = \\n\", A)\n",
    "print(\"Inverse of A = \\n\", A_inv)\n",
    "print(\"A * A_inv = \\n\", np.dot(A, A_inv))\n",
    "print(\"A_inv * A = \\n\", np.dot(A_inv, A))"
   ]
  },
  {
   "cell_type": "code",
   "execution_count": 12,
   "metadata": {},
   "outputs": [
    {
     "name": "stdout",
     "output_type": "stream",
     "text": [
      "[ 14.639 -1.639 -0.000]\n",
      "[[ 0.255  0.789  0.408]\n",
      " [ 0.502 -0.493 -0.816]\n",
      " [ 0.826 -0.366  0.408]]\n"
     ]
    }
   ],
   "source": [
    "A = np.array([[1,2,3], [6,5,4], [9,8,7]])\n",
    "W, V = np.linalg.eig(A)\n",
    "print(W)\n",
    "print(V)"
   ]
  },
  {
   "cell_type": "code",
   "execution_count": 14,
   "metadata": {},
   "outputs": [
    {
     "name": "stdout",
     "output_type": "stream",
     "text": [
      "[ 14.639 -1.639  0.000]\n",
      "[[ 0.611  0.880 -0.239]\n",
      " [ 0.577  0.233 -0.796]\n",
      " [ 0.542 -0.414  0.557]]\n"
     ]
    }
   ],
   "source": [
    "W, V = np.linalg.eig(np.transpose(A)) # 전치하여도 변하지 않는다\n",
    "print(W)\n",
    "print(V)"
   ]
  },
  {
   "cell_type": "code",
   "execution_count": 15,
   "metadata": {},
   "outputs": [
    {
     "name": "stdout",
     "output_type": "stream",
     "text": [
      "[ 1.000  2.000  3.000]\n",
      "[[ 1.000  0.000  0.000]\n",
      " [ 0.000  1.000  0.000]\n",
      " [ 0.000  0.000  1.000]]\n"
     ]
    }
   ],
   "source": [
    "B = np.array([[1, 0, 0], [0, 2, 0], [0, 0, 3]]) # 삼각행렬의 고윳값은 대각행렬의 성분들과 일치한다\n",
    "W, V = np.linalg.eig(B)\n",
    "print(W)\n",
    "print(V)"
   ]
  },
  {
   "cell_type": "code",
   "execution_count": 16,
   "metadata": {},
   "outputs": [
    {
     "name": "stdout",
     "output_type": "stream",
     "text": [
      "[ 1.000  0.500  0.333]\n",
      "[[ 1.000  0.000  0.000]\n",
      " [ 0.000  1.000  0.000]\n",
      " [ 0.000  0.000  1.000]]\n"
     ]
    }
   ],
   "source": [
    "W, V = np.linalg.eig(np.linalg.inv(B)) # \n",
    "print(W)\n",
    "print(V)"
   ]
  },
  {
   "cell_type": "code",
   "execution_count": null,
   "metadata": {},
   "outputs": [],
   "source": []
  }
 ],
 "metadata": {
  "kernelspec": {
   "display_name": "Python 3",
   "language": "python",
   "name": "python3"
  },
  "language_info": {
   "codemirror_mode": {
    "name": "ipython",
    "version": 3
   },
   "file_extension": ".py",
   "mimetype": "text/x-python",
   "name": "python",
   "nbconvert_exporter": "python",
   "pygments_lexer": "ipython3",
   "version": "3.7.4"
  }
 },
 "nbformat": 4,
 "nbformat_minor": 2
}
