{
 "cells": [
  {
   "cell_type": "markdown",
   "metadata": {},
   "source": [
    "\n",
    "make_blobs 함수는 등방성 가우시안 정규분포를 이용해 가상 데이터를 생성한다.\\\n",
    "이 때 등방성이라는 말은 모든 방향으로 같은 성질을 가진다는 뜻이다.\\\n",
    "make_blobs는 보통 클러스링용 가상데이터를 생성하는데 사용한다.\\\n",
    "make_blobs 함수의 인수와 반환값은 다음과 같다.\n",
    "\n",
    "인수:\n",
    "\n",
    "n_samples : 표본 데이터의 수, 디폴트 100\\\n",
    "n_features : 독립 변수의 수, 디폴트 20\\\n",
    "centers : 생성할 클러스터의 수 혹은 중심, [n_centers, n_features] 크기의 배열. 디폴트 3\\\n",
    "cluster_std: 클러스터의 표준 편차, 디폴트 1.0\\\n",
    "center_box: 생성할 클러스터의 바운딩 박스(bounding box), 디폴트 (-10.0, 10.0))\n",
    "\n",
    "반환값:\n",
    "\n",
    "X : [n_samples, n_features] 크기의 배열\\\n",
    "독립 변수\\\n",
    "y : [n_samples] 크기의 배열\\\n",
    "종속 변수"
   ]
  },
  {
   "cell_type": "code",
   "execution_count": 4,
   "metadata": {},
   "outputs": [
    {
     "name": "stdout",
     "output_type": "stream",
     "text": [
      "[0 1 0 0 0 0 0 1 1 1 0 1 1 1 0 0 0 0 0 0 0 1 0 1 1 1 0 1 1 1 0 1 0 0 1 1 1\n",
      " 0 0 0 1 1 0 1 0 1 1 1 1 0]\n"
     ]
    },
    {
     "data": {
      "image/png": "[encoded data removed]",
      "text/plain": [
       "<Figure size 432x288 with 1 Axes>"
      ]
     },
     "metadata": {
      "needs_background": "light"
     },
     "output_type": "display_data"
    }
   ],
   "source": [
    "%matplotlib inline\n",
    "import matplotlib.pylab as plt\n",
    "from sklearn.datasets import make_blobs\n",
    "X, y = make_blobs(n_samples = 50, centers = 2, cluster_std = 0.5, random_state = 4)\n",
    "print(y)\n",
    "y = 2 * y - 1 # 0, 1인 데이터들을 -1, 1로 바꿔줌\n",
    "\n",
    "plt.scatter(X[y == -1, 0], X[y == -1, 1], marker='o', label = \"-1 class\")\n",
    "plt.scatter(X[y == +1, 0], X[y == +1, 1], marker='x', label = \"+1 class\")\n",
    "plt.xlabel(\"x1\")\n",
    "plt.ylabel(\"x2\")\n",
    "plt.legend()\n",
    "plt.title(\"train data\")\n",
    "plt.show()"
   ]
  },
  {
   "cell_type": "code",
   "execution_count": 6,
   "metadata": {},
   "outputs": [],
   "source": [
    "from sklearn.svm import SVC\n",
    "model = SVC(kernel = 'linear', C=1e10).fit(X, y)"
   ]
  },
  {
   "cell_type": "markdown",
   "metadata": {},
   "source": [
    "n_support_: 각 클래스의 서포트의 개수\n",
    "\n",
    "support_: 각 클래스의 서포트의 인덱스\n",
    "\n",
    "support_vectors_: 각 클래스의 서포트의x 값 . x+ 와 x-\n",
    "\n",
    "\n",
    "coef_: w 벡터\n",
    "\n",
    "intercept_: w0\n",
    "\n",
    "dual_coef_: 각 원소가 ai yi 로 이루어진 벡터"
   ]
  },
  {
   "cell_type": "code",
   "execution_count": 7,
   "metadata": {},
   "outputs": [
    {
     "data": {
      "text/plain": [
       "array([1, 1])"
      ]
     },
     "execution_count": 7,
     "metadata": {},
     "output_type": "execute_result"
    }
   ],
   "source": [
    "model.n_support_"
   ]
  },
  {
   "cell_type": "code",
   "execution_count": 8,
   "metadata": {},
   "outputs": [
    {
     "data": {
      "text/plain": [
       "array([42,  1])"
      ]
     },
     "execution_count": 8,
     "metadata": {},
     "output_type": "execute_result"
    }
   ],
   "source": [
    "model.support_"
   ]
  },
  {
   "cell_type": "code",
   "execution_count": 9,
   "metadata": {},
   "outputs": [
    {
     "data": {
      "text/plain": [
       "array([[9.03715314, 1.71813465],\n",
       "       [9.17124955, 3.52485535]])"
      ]
     },
     "execution_count": 9,
     "metadata": {},
     "output_type": "execute_result"
    }
   ],
   "source": [
    "model.support_vectors_"
   ]
  },
  {
   "cell_type": "code",
   "execution_count": 10,
   "metadata": {},
   "outputs": [
    {
     "data": {
      "text/plain": [
       "array([-1,  1])"
      ]
     },
     "execution_count": 10,
     "metadata": {},
     "output_type": "execute_result"
    }
   ],
   "source": [
    "y[model.support_]"
   ]
  },
  {
   "cell_type": "code",
   "execution_count": 14,
   "metadata": {},
   "outputs": [
    {
     "data": {
      "image/png": "[encoded data removed]",
      "text/plain": [
       "<Figure size 432x288 with 1 Axes>"
      ]
     },
     "metadata": {
      "needs_background": "light"
     },
     "output_type": "display_data"
    }
   ],
   "source": [
    "import numpy as np\n",
    "xmin = X[:, 0].min()\n",
    "xmax = X[:, 0].max()\n",
    "ymin = X[:, 1].min()\n",
    "ymax = X[:, 1].max()\n",
    "xx = np.linspace(xmin, xmax, 10)\n",
    "yy = np.linspace(ymin, ymax, 10)\n",
    "X1, X2 = np.meshgrid(xx, yy)\n",
    "\n",
    "Z = np.empty(X1.shape)\n",
    "for (i, j), val in np.ndenumerate(X1):\n",
    "    x1 = val\n",
    "    x2 = X2[i, j]\n",
    "    p = model.decision_function([[x1, x2]])\n",
    "    Z[i, j] = p[0]\n",
    "levels = [-1, 0, 1]\n",
    "linestyles = ['dashed', 'solid', 'dashed']\n",
    "plt.scatter(X[y == -1, 0], X[y == -1, 1], marker = 'o', label=\"-1 class\")\n",
    "plt.scatter(X[y == +1, 0], X[y == +1, 1], marker = 'x', label=\"+1 class\")\n",
    "plt.contour(X1, X2, Z, levels, colors='k', linestyles=linestyles)\n",
    "plt.scatter(model.support_vectors_[:, 0], model.support_vectors_[:, 1], s=300, alpha=0.3)\n",
    "\n",
    "x_new = [10, 2]\n",
    "plt.scatter(x_new[0], x_new[1], marker='^', s=100)\n",
    "plt.text(x_new[0] + 0.03, x_new[1] + 0.08, \"test data\")\n",
    "\n",
    "plt.xlabel(\"x1\")\n",
    "plt.ylabel(\"x2\")\n",
    "plt.legend()\n",
    "plt.title(\"predicted result of SVM\")\n",
    "plt.show()"
   ]
  },
  {
   "cell_type": "code",
   "execution_count": 15,
   "metadata": {},
   "outputs": [
    {
     "data": {
      "text/plain": [
       "array([-1.71192987])"
      ]
     },
     "execution_count": 15,
     "metadata": {},
     "output_type": "execute_result"
    }
   ],
   "source": [
    "x_new1 = [10, 1]\n",
    "model.decision_function([x_new1])"
   ]
  },
  {
   "cell_type": "code",
   "execution_count": 16,
   "metadata": {},
   "outputs": [
    {
     "data": {
      "text/plain": [
       "array([-0.61101582])"
      ]
     },
     "execution_count": 16,
     "metadata": {},
     "output_type": "execute_result"
    }
   ],
   "source": [
    "x_new2 = [10, 2]\n",
    "model.decision_function([x_new2])"
   ]
  },
  {
   "cell_type": "code",
   "execution_count": 17,
   "metadata": {},
   "outputs": [
    {
     "data": {
      "text/plain": [
       "array([0.48989822])"
      ]
     },
     "execution_count": 17,
     "metadata": {},
     "output_type": "execute_result"
    }
   ],
   "source": [
    "x_new3 = [10, 3]\n",
    "model.decision_function([x_new3])"
   ]
  },
  {
   "cell_type": "code",
   "execution_count": null,
   "metadata": {},
   "outputs": [],
   "source": []
  }
 ],
 "metadata": {
  "kernelspec": {
   "display_name": "Python 3",
   "language": "python",
   "name": "python3"
  },
  "language_info": {
   "codemirror_mode": {
    "name": "ipython",
    "version": 3
   },
   "file_extension": ".py",
   "mimetype": "text/x-python",
   "name": "python",
   "nbconvert_exporter": "python",
   "pygments_lexer": "ipython3",
   "version": "3.7.4"
  }
 },
 "nbformat": 4,
 "nbformat_minor": 2
}
