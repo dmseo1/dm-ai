{
 "cells": [
  {
   "cell_type": "markdown",
   "metadata": {},
   "source": [
    "## 공분산"
   ]
  },
  {
   "cell_type": "code",
   "execution_count": 5,
   "metadata": {},
   "outputs": [
    {
     "name": "stdout",
     "output_type": "stream",
     "text": [
      "covariance of x_1 and x_2 is :  0.6666666666666666\n",
      "correlation coefficient of x_1 and x_2 is :  0.44095855184409843\n"
     ]
    }
   ],
   "source": [
    "import numpy as np\n",
    "x_1 = np.array([3,4,5,4,3,4,5])\n",
    "x_2 = np.array([1,2,3,4,5,6,7])\n",
    "x_3 = np.array([4,4,4,4,4,4,4])\n",
    "\n",
    "x1_diff = x_1 - x_1.mean()\n",
    "x2_diff = x_2 - x_2.mean()\n",
    "x12_cov = np.dot(x1_diff, x2_diff) / 6\n",
    "print(\"covariance of x_1 and x_2 is : \", x12_cov)\n",
    "print(\"correlation coefficient of x_1 and x_2 is : \", x12_cov / (x_1.std() * x_2.std()))"
   ]
  },
  {
   "cell_type": "code",
   "execution_count": 8,
   "metadata": {},
   "outputs": [
    {
     "name": "stdout",
     "output_type": "stream",
     "text": [
      "covariance of x and y is :  -2.0\n",
      "covariance matrix of x and y is : \n",
      " [[ 2. -2.]\n",
      " [-2.  2.]]\n",
      "correlation coefficient of x and y is : \n",
      " [[ 1. -1.]\n",
      " [-1.  1.]]\n"
     ]
    }
   ],
   "source": [
    "x = np.arange(5)\n",
    "y = np.arange(4, -1, -1)\n",
    "x_diff = x - x.mean()\n",
    "y_diff = y - y.mean()\n",
    "xy_cov = np.dot(x_diff, y_diff) / 5\n",
    "print(\"covariance of x and y is : \", xy_cov)\n",
    "print(\"covariance matrix of x and y is : \\n\", np.cov(x, y, ddof=0))\n",
    "print(\"correlation coefficient of x and y is : \\n\", np.corrcoef(x, y)) # 오른쪽에서 내려오는 대각을 본다. 완벽한 음의 상관관계"
   ]
  },
  {
   "cell_type": "code",
   "execution_count": 11,
   "metadata": {},
   "outputs": [
    {
     "name": "stdout",
     "output_type": "stream",
     "text": [
      "mean:  15.0 9.0 4.0\n",
      "var:  150.0 6.0 13.1\n",
      "[[35.   5.   0.  20.  15. ]\n",
      " [11.  12.   5.   9.   8. ]\n",
      " [ 0.5  0.  10.   4.5  5. ]]\n",
      "Covariance matrix : \n",
      " [[150.   14.  -23.5]\n",
      " [ 14.    6.   -8.8]\n",
      " [-23.5  -8.8  13.1]]\n",
      "Correlation Coefficients : \n",
      " [[ 1.          0.46666667 -0.53013513]\n",
      " [ 0.46666667  1.         -0.99259344]\n",
      " [-0.53013513 -0.99259344  1.        ]]\n",
      "rcho(x1, x2) : 0.47\n",
      "rcho(x2, x3) : -0.99\n",
      "rcho(x3, x1) : -0.53\n"
     ]
    }
   ],
   "source": [
    "x_1 = np.array([35, 5, 0, 20, 15])\n",
    "x_2 = np.array([11,12, 5, 9, 8])\n",
    "x_3 = np.array([0.5, 0, 10, 4.5, 5])\n",
    "x_1_mean = x_1.mean()\n",
    "x_2_mean = x_2.mean()\n",
    "x_3_mean = x_3.mean()\n",
    "print(\"mean: \" , x_1_mean, x_2_mean, x_3_mean)\n",
    "\n",
    "x_1_var = x_1.var()\n",
    "x_2_var = x_2.var()\n",
    "x_3_var = x_3.var()\n",
    "\n",
    "print(\"var: \" , x_1_var, x_2_var, x_3_var)\n",
    "x_total = np.array([x_1, x_2, x_3])\n",
    "\n",
    "print(x_total)\n",
    "\n",
    "print('Covariance matrix : \\n', np.cov(x_total, ddof=0))\n",
    "X_cc = np.corrcoef(x_total)\n",
    "\n",
    "print('Correlation Coefficients : \\n', X_cc)\n",
    "\n",
    "print(f'rcho(x1, x2) : {X_cc[1][0]:3.2}')\n",
    "print(f'rcho(x2, x3) : {X_cc[1][2]:3.2}')\n",
    "print(f'rcho(x3, x1) : {X_cc[2][0]:3.2}')\n"
   ]
  },
  {
   "cell_type": "markdown",
   "metadata": {},
   "source": [
    "## 왜도, 첨도"
   ]
  },
  {
   "cell_type": "code",
   "execution_count": 12,
   "metadata": {},
   "outputs": [
    {
     "name": "stdout",
     "output_type": "stream",
     "text": [
      "-0.7244179326244428\n",
      "0.7244179326244428\n",
      "-0.4795918367346941\n",
      "-1.3\n"
     ]
    }
   ],
   "source": [
    "import scipy.stats as ss\n",
    "\n",
    "x1 = ss.skew([1,2,3,4,5,5,5,5]) #왼쪽으로 치우칠 수록 양수가 나온다\n",
    "x2 = ss.skew([1,2,3,4,5,1,1,1]) #왜도를 0에 가깝게 만들어야 데이터 분석에 사용할 수 있다.\n",
    "y1 = ss.kurtosis([1,2,2,2,3,3,3,3,3,4,4,4,5])\n",
    "y2 = ss.kurtosis([1,2,3,4,5])\n",
    "print(x1)\n",
    "print(x2)\n",
    "print(y1)\n",
    "print(y2)"
   ]
  },
  {
   "cell_type": "markdown",
   "metadata": {},
   "source": [
    "## 회귀분석\n",
    " - 표본으로부터 모집단의 분포를 추정"
   ]
  },
  {
   "cell_type": "markdown",
   "metadata": {},
   "source": [
    " - 통계적 현상 현상을 반복하여 관찰하거나 집단 안에서 대량으로 관찰하여 고유의 법칙성을 찾아내는 것이 가능한 현상\n",
    " - 확률: 통계적 현상의 확실함의 정도를 나타내는 척도"
   ]
  },
  {
   "cell_type": "code",
   "execution_count": null,
   "metadata": {},
   "outputs": [],
   "source": []
  }
 ],
 "metadata": {
  "kernelspec": {
   "display_name": "Python 3",
   "language": "python",
   "name": "python3"
  },
  "language_info": {
   "codemirror_mode": {
    "name": "ipython",
    "version": 3
   },
   "file_extension": ".py",
   "mimetype": "text/x-python",
   "name": "python",
   "nbconvert_exporter": "python",
   "pygments_lexer": "ipython3",
   "version": "3.7.4"
  }
 },
 "nbformat": 4,
 "nbformat_minor": 2
}
