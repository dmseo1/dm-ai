{
 "cells": [
  {
   "cell_type": "code",
   "execution_count": 1,
   "metadata": {
    "scrolled": false
   },
   "outputs": [
    {
     "name": "stdout",
     "output_type": "stream",
     "text": [
      "     val  act\n",
      "no           \n",
      "16  0.99    1\n",
      "1   0.97    1\n",
      "15  0.88    1\n",
      "2   0.86    1\n",
      "3   0.75    1\n",
      "12  0.75    1\n",
      "4   0.71    1\n",
      "5   0.66    0\n",
      "9   0.56    0\n",
      "6   0.55    0\n",
      "11  0.46    0\n",
      "10  0.45    0\n",
      "7   0.43    0\n",
      "8   0.33    0\n",
      "13  0.24    0\n",
      "14  0.16    0\n",
      "     val  act       TAR       FAR\n",
      "no                               \n",
      "16  0.99    1  0.142857  0.000000\n",
      "1   0.97    1  0.285714  0.000000\n",
      "15  0.88    1  0.428571  0.000000\n",
      "2   0.86    1  0.571429  0.000000\n",
      "3   0.75    1  0.714286  0.000000\n",
      "12  0.75    1  0.857143  0.000000\n",
      "4   0.71    1  1.000000  0.000000\n",
      "5   0.66    0  1.000000  0.111111\n",
      "9   0.56    0  1.000000  0.222222\n",
      "6   0.55    0  1.000000  0.333333\n",
      "11  0.46    0  1.000000  0.444444\n",
      "10  0.45    0  1.000000  0.555556\n",
      "7   0.43    0  1.000000  0.666667\n",
      "8   0.33    0  1.000000  0.777778\n",
      "13  0.24    0  1.000000  0.888889\n",
      "14  0.16    0  1.000000  1.000000\n"
     ]
    },
    {
     "data": {
      "image/png": "[encoded data removed]",
      "text/plain": [
       "<Figure size 576x576 with 1 Axes>"
      ]
     },
     "metadata": {
      "needs_background": "light"
     },
     "output_type": "display_data"
    }
   ],
   "source": [
    "import pandas as pd\n",
    "import matplotlib.pyplot as plt\n",
    "%matplotlib inline\n",
    "\n",
    "num = [1, 2, 3, 4, 5, 6, 7, 8, 9, 10, 11, 12, 13, 14, 15, 16]\n",
    "score = [0.97, 0.86, 0.75, 0.71, 0.66, 0.55, 0.43, 0.33, 0.56, 0.45, 0.46, 0.75, 0.24, 0.16, 0.88, 0.99]\n",
    "act = [1, 1, 1, 1, 0, 0, 0, 0, 0, 0, 0, 1, 0, 0, 1, 1]\n",
    "\n",
    "c_table = pd.DataFrame({'no' : num, 'val' : score, 'act' : act})\n",
    "c_table = c_table.set_index('no')\n",
    "c_table.sort_values(by='val', ascending=False, inplace=True)\n",
    "\n",
    "print(c_table)\n",
    "\n",
    "t = f = 0\n",
    "tar = []\n",
    "far = []\n",
    "one_count = c_table['act'].value_counts()[1]\n",
    "zero_count = c_table['act'].value_counts()[0]\n",
    "for i in c_table.index :\n",
    "    if c_table['act'][i] == 1 :\n",
    "        t += 1\n",
    "    else :\n",
    "        f += 1\n",
    "    tar.append(t / one_count) \n",
    "    far.append(f / zero_count)\n",
    "\n",
    "c_table['TAR'] = tar\n",
    "c_table['FAR'] = far\n",
    "\n",
    "print(c_table)\n",
    "\n",
    "plt.figure(figsize=(8,8))\n",
    "plt.title(\"ROC\")\n",
    "plt.xlabel(\"FAR\")\n",
    "plt.ylabel(\"TAR\")\n",
    "plt.plot(c_table['FAR'], c_table['TAR'])\n",
    "plt.show()"
   ]
  },
  {
   "cell_type": "code",
   "execution_count": 2,
   "metadata": {},
   "outputs": [
    {
     "name": "stdout",
     "output_type": "stream",
     "text": [
      "0\n",
      "0\n",
      "0\n",
      "1\n",
      "\n",
      "0\n",
      "0\n",
      "0\n",
      "1\n",
      "\n",
      "0\n",
      "0\n",
      "0\n",
      "1\n",
      "\n",
      "0\n",
      "0\n",
      "0\n",
      "1\n",
      "\n",
      "0\n",
      "0\n",
      "0\n",
      "1\n",
      "\n"
     ]
    }
   ],
   "source": [
    "w1s = [0.5, 0.5, 0.3, 1.0, 0.8]\n",
    "w2s = [0.5, 0.5, 0.3, 1.0, 0.8]\n",
    "thetas = [0.7, 0.8, 0.5, 1.0, 1.0]\n",
    "bs = [-0.7, -0.7, -0.5, -1.5, -1.0]\n",
    "for i in range(len(w1s)) :\n",
    "    def AND(x1, x2):\n",
    "        w1, w2, theta = w1s[i], w2s[i], thetas[i]\n",
    "        tmp = x1 * w1 + x2 * w2\n",
    "        if(tmp > theta) :\n",
    "            return 1\n",
    "        else :\n",
    "            return 0\n",
    "\n",
    "    print(AND(0, 0))\n",
    "    print(AND(0, 1))\n",
    "    print(AND(1, 0))\n",
    "    print(AND(1, 1))\n",
    "    print()\n",
    "\n"
   ]
  },
  {
   "cell_type": "code",
   "execution_count": 3,
   "metadata": {},
   "outputs": [
    {
     "name": "stdout",
     "output_type": "stream",
     "text": [
      "0\n",
      "0\n",
      "0\n",
      "1\n",
      "\n",
      "0\n",
      "0\n",
      "0\n",
      "1\n",
      "\n",
      "0\n",
      "0\n",
      "0\n",
      "1\n",
      "\n",
      "0\n",
      "0\n",
      "0\n",
      "1\n",
      "\n",
      "0\n",
      "0\n",
      "0\n",
      "1\n",
      "\n"
     ]
    }
   ],
   "source": [
    "import numpy as np\n",
    "for i in range(len(w1s)) :\n",
    "    def AND(x1, x2):\n",
    "        x = np.array([x1, x2])\n",
    "        w = np.array([w1s[i], w2s[i]])\n",
    "        b = bs[i]\n",
    "        tmp = np.sum(x*w) + b\n",
    "        if tmp <= 0:\n",
    "            return 0\n",
    "        else : \n",
    "            return 1\n",
    "\n",
    "    print(AND(0, 0))\n",
    "    print(AND(0, 1))\n",
    "    print(AND(1, 0))\n",
    "    print(AND(1, 1))\n",
    "    print()"
   ]
  },
  {
   "cell_type": "code",
   "execution_count": 4,
   "metadata": {},
   "outputs": [],
   "source": [
    "def AND(x1, x2) :\n",
    "    x = np.array([x1, x2])\n",
    "    w = np.array([0.5, 0.5])\n",
    "    b = -0.7\n",
    "    tmp = np.sum(x*w) + b\n",
    "    if tmp <= 0:\n",
    "        return 0\n",
    "    else : \n",
    "        return 1\n"
   ]
  },
  {
   "cell_type": "code",
   "execution_count": 5,
   "metadata": {},
   "outputs": [],
   "source": [
    "def NAND(x1, x2) :\n",
    "    x = np.array([x1, x2])\n",
    "    w = np.array([-0.5, -0.5])\n",
    "    b = 0.7\n",
    "    tmp = np.sum(x*w) + b\n",
    "    if tmp <= 0:\n",
    "        return 0\n",
    "    else : \n",
    "        return 1"
   ]
  },
  {
   "cell_type": "code",
   "execution_count": 6,
   "metadata": {},
   "outputs": [],
   "source": [
    "def OR(x1, x2) :\n",
    "    x = np.array([x1, x2])\n",
    "    w = np.array([0.5, 0.5])\n",
    "    b = -0.2\n",
    "    tmp = np.sum(x*w) + b\n",
    "    if tmp <= 0:\n",
    "        return 0\n",
    "    else : \n",
    "        return 1"
   ]
  },
  {
   "cell_type": "code",
   "execution_count": 7,
   "metadata": {},
   "outputs": [],
   "source": [
    "def XOR(x1, x2):\n",
    "    return AND(NAND(x1, x2), OR(x1, x2)) # 다중 퍼셉트론"
   ]
  },
  {
   "cell_type": "code",
   "execution_count": 8,
   "metadata": {},
   "outputs": [],
   "source": [
    "def step_function(x) :\n",
    "    y = x > 0\n",
    "    return y.astype(np.int)"
   ]
  },
  {
   "cell_type": "code",
   "execution_count": 9,
   "metadata": {},
   "outputs": [
    {
     "data": {
      "text/plain": [
       "array([1, 1, 1, 0, 0, 0])"
      ]
     },
     "execution_count": 9,
     "metadata": {},
     "output_type": "execute_result"
    }
   ],
   "source": [
    "step_function(np.array([3,2,1,0,-1,-2]))"
   ]
  },
  {
   "cell_type": "code",
   "execution_count": 10,
   "metadata": {},
   "outputs": [
    {
     "data": {
      "image/png": "[encoded data removed]",
      "text/plain": [
       "<Figure size 1080x720 with 1 Axes>"
      ]
     },
     "metadata": {
      "needs_background": "light"
     },
     "output_type": "display_data"
    }
   ],
   "source": [
    "x1 =  np.arange(-4.0, 4.0, 0.01)\n",
    "y1 = step_function(x1)\n",
    "plt.figure(figsize=(15, 10))\n",
    "plt.plot(x1, y1)\n",
    "plt.ylim(-0.1, 1.1)\n",
    "plt.show()"
   ]
  },
  {
   "cell_type": "code",
   "execution_count": 11,
   "metadata": {},
   "outputs": [
    {
     "data": {
      "text/plain": [
       "0.7310585786300049"
      ]
     },
     "execution_count": 11,
     "metadata": {},
     "output_type": "execute_result"
    }
   ],
   "source": [
    "def sigmoid(x) :\n",
    "    return 1 / (1 + np.exp(-x))\n",
    "\n",
    "sigmoid(1)"
   ]
  },
  {
   "cell_type": "code",
   "execution_count": 12,
   "metadata": {},
   "outputs": [],
   "source": [
    "x2 = np.arange(-4.0, 4.0, 0.01)\n",
    "y2 = sigmoid(x2)"
   ]
  },
  {
   "cell_type": "code",
   "execution_count": 13,
   "metadata": {},
   "outputs": [
    {
     "data": {
      "image/png": "[encoded data removed]",
      "text/plain": [
       "<Figure size 1080x720 with 1 Axes>"
      ]
     },
     "metadata": {
      "needs_background": "light"
     },
     "output_type": "display_data"
    }
   ],
   "source": [
    "plt.figure(figsize=(15,10))\n",
    "plt.plot(x1, y1)\n",
    "plt.plot(x2, y2)\n",
    "plt.show()"
   ]
  },
  {
   "cell_type": "code",
   "execution_count": 14,
   "metadata": {},
   "outputs": [],
   "source": [
    "def relu(x):\n",
    "    return np.maximum(0, x)"
   ]
  },
  {
   "cell_type": "code",
   "execution_count": 15,
   "metadata": {},
   "outputs": [
    {
     "data": {
      "image/png": "[encoded data removed]",
      "text/plain": [
       "<Figure size 1080x720 with 1 Axes>"
      ]
     },
     "metadata": {
      "needs_background": "light"
     },
     "output_type": "display_data"
    }
   ],
   "source": [
    "x3 = np.arange(-4, 4, 0.01)\n",
    "y3 = relu(x3)\n",
    "plt.figure(figsize=(15,10))\n",
    "plt.plot(x3, y3)\n",
    "plt.ylim(-0.1, 4)\n",
    "plt.show()"
   ]
  },
  {
   "cell_type": "code",
   "execution_count": 16,
   "metadata": {},
   "outputs": [
    {
     "name": "stdout",
     "output_type": "stream",
     "text": [
      "A.shape =  (2, 2)\n",
      "B.shape =  (2, 2)\n"
     ]
    }
   ],
   "source": [
    "A = np.array([[1,2], [3,4]])\n",
    "B = np.array([[5,6], [7,8]])\n",
    "print(\"A.shape = \", A.shape)\n",
    "print(\"B.shape = \", B.shape)"
   ]
  },
  {
   "cell_type": "code",
   "execution_count": 17,
   "metadata": {},
   "outputs": [
    {
     "name": "stdout",
     "output_type": "stream",
     "text": [
      "A·B = [[19 22]\n",
      " [43 50]]\n",
      "result.shape = (2, 2)\n"
     ]
    }
   ],
   "source": [
    "result = np.dot(A, B)\n",
    "print(\"A·B =\", result)\n",
    "print(\"result.shape =\", result.shape)"
   ]
  },
  {
   "cell_type": "code",
   "execution_count": 18,
   "metadata": {},
   "outputs": [
    {
     "name": "stdout",
     "output_type": "stream",
     "text": [
      "shape of input =  (2,)\n",
      "weight =  [[1 3 5]\n",
      " [2 4 6]]\n",
      "shape of weight =  (2, 3)\n",
      "y =  [ 5 11 17]\n"
     ]
    }
   ],
   "source": [
    "x = np.array([1, 2])\n",
    "print(\"shape of input = \", x.shape)\n",
    "weight = np.array([[1, 3, 5], [2,4,6]])\n",
    "print(\"weight = \", weight)\n",
    "print(\"shape of weight = \", weight.shape)\n",
    "y = np.dot(x, weight)\n",
    "print(\"y = \", y)"
   ]
  },
  {
   "cell_type": "code",
   "execution_count": 36,
   "metadata": {},
   "outputs": [
    {
     "name": "stdout",
     "output_type": "stream",
     "text": [
      "shape of input =  (2,)\n",
      "shape of weight1 =  (2, 3)\n",
      "shape of bias1 =  (3,)\n",
      "result of inner1 =  [0.3 0.7 1.1]\n",
      "result of sigmoid1 =  [0.57444252 0.66818777 0.75026011]\n"
     ]
    }
   ],
   "source": [
    "x = np.array([1.0, 0.5])\n",
    "weight1 = np.array([[0.1, 0.3, 0.5], [0.2, 0.4, 0.6]])\n",
    "bias1 = np.array([0.1, 0.2, 0.3])\n",
    "print(\"shape of input = \", x.shape)\n",
    "print(\"shape of weight1 = \", weight1.shape)\n",
    "print(\"shape of bias1 = \", bias1.shape)\n",
    "\n",
    "result_of_inner1 = np.dot(x, weight1) + bias1\n",
    "result_of_sigmoid1 = sigmoid(result_of_inner1)\n",
    "print(\"result of inner1 = \", result_of_inner1)\n",
    "print(\"result of sigmoid1 = \", result_of_sigmoid1) ## 한 층을 쌓는 것"
   ]
  },
  {
   "cell_type": "code",
   "execution_count": 26,
   "metadata": {},
   "outputs": [
    {
     "name": "stdout",
     "output_type": "stream",
     "text": [
      "shape of sigmoid1 =  (3,)\n",
      "shape of weight2 =  (3, 2)\n",
      "shape of bias2 =  (2,)\n"
     ]
    }
   ],
   "source": [
    "weight2 = np.array([[0.1, 0.4], [0.2, 0.5], [0.3, 0.6]])\n",
    "bias2 = np.array([0.1, 0.2])\n",
    "print(\"shape of sigmoid1 = \", result_of_sigmoid1.shape)\n",
    "print(\"shape of weight2 = \", weight2.shape)\n",
    "print(\"shape of bias2 = \", bias2.shape)"
   ]
  },
  {
   "cell_type": "code",
   "execution_count": 27,
   "metadata": {},
   "outputs": [
    {
     "name": "stdout",
     "output_type": "stream",
     "text": [
      "result of inner2 = [0.51615984 1.21402696]\n",
      "result of sigmoid2 = [0.62624937 0.7710107 ]\n"
     ]
    }
   ],
   "source": [
    "result_of_inner2 = np.dot(result_of_sigmoid1, weight2) + bias2\n",
    "result_of_sigmoid2 = sigmoid(result_of_inner2)\n",
    "print(\"result of inner2 =\", result_of_inner2)\n",
    "print(\"result of sigmoid2 =\", result_of_sigmoid2)"
   ]
  },
  {
   "cell_type": "code",
   "execution_count": 28,
   "metadata": {},
   "outputs": [],
   "source": [
    "def identitiy_function(x):\n",
    "    return x"
   ]
  },
  {
   "cell_type": "code",
   "execution_count": 31,
   "metadata": {},
   "outputs": [
    {
     "name": "stdout",
     "output_type": "stream",
     "text": [
      "shape of sigmoid2 =  (2,)\n",
      "shape of sigmoid3 =  (2, 2)\n",
      "shape of bias3 =  (2,)\n",
      "result of inner3 [0.31682708 0.69627909]\n",
      "output =  [0.31682708 0.69627909]\n"
     ]
    }
   ],
   "source": [
    "weight3 = np.array([[0.1, 0.3], [0.2, 0.4]])\n",
    "bias3 = np.array([0.1, 0.2])\n",
    "print(\"shape of sigmoid2 = \", result_of_sigmoid2.shape)\n",
    "print(\"shape of sigmoid3 = \", weight3.shape)\n",
    "print(\"shape of bias3 = \", bias3.shape)\n",
    "\n",
    "result_of_inner3 = np.dot(result_of_sigmoid2, weight3) + bias3\n",
    "output = identitiy_function(result_of_inner3)\n",
    "print(\"result of inner3\", result_of_inner3)\n",
    "print(\"output = \", output)"
   ]
  },
  {
   "cell_type": "code",
   "execution_count": 37,
   "metadata": {},
   "outputs": [
    {
     "name": "stdout",
     "output_type": "stream",
     "text": [
      "[0.31682708 0.69627909]\n"
     ]
    }
   ],
   "source": [
    "def init_network():\n",
    "    network = {}\n",
    "    network['weight1'] = np.array([[0.1, 0.3, 0.5], [0.2, 0.4, 0.6]])\n",
    "    network['bias1'] = np.array([0.1, 0.2, 0.3])\n",
    "    network['weight2'] = np.array([[0.1, 0.4], [0.2, 0.5], [0.3, 0.6]])\n",
    "    network['bias2'] = np.array([0.1, 0.2])\n",
    "    network['weight3'] = np.array([[0.1, 0.3], [0.2, 0.4]])\n",
    "    network['bias3'] = np.array([0.1, 0.2])\n",
    "    return network\n",
    "\n",
    "def forward(network, x):\n",
    "    weight1, weight2, weight3 = network['weight1'], network['weight2'], network['weight3']\n",
    "    bias1, bias2, bias3 = network['bias1'], network['bias2'], network['bias3']\n",
    "    \n",
    "    a1 = np.dot(x, weight1) + bias1\n",
    "    z1 = sigmoid(a1)\n",
    "    a2 = np.dot(z1, weight2) + bias2\n",
    "    z2 = sigmoid(a2)\n",
    "    a3 = np.dot(z2, weight3) + bias3\n",
    "    y = identitiy_function(a3)\n",
    "    \n",
    "    return y\n",
    "\n",
    "network = init_network()\n",
    "y = forward(network, [1.0, 0.5])\n",
    "print(y)"
   ]
  },
  {
   "cell_type": "code",
   "execution_count": 64,
   "metadata": {},
   "outputs": [
    {
     "name": "stdout",
     "output_type": "stream",
     "text": [
      "[[ 2.71828183  7.3890561 ]\n",
      " [20.08553692 54.59815003]]\n"
     ]
    },
    {
     "data": {
      "text/plain": [
       "array([[0.0320586 , 0.08714432],\n",
       "       [0.23688282, 0.64391426]])"
      ]
     },
     "execution_count": 64,
     "metadata": {},
     "output_type": "execute_result"
    }
   ],
   "source": [
    "def softmax(matrix) : # 이 함수는 실행시 오버플로우가 발생할 가능성이 있다.\n",
    "    exponential_matrix = np.exp(matrix)\n",
    "    print(exponential_matrix)\n",
    "    sum_of_exponential_matrix = np.sum(exponential_matrix)\n",
    "    y = exponential_matrix / sum_of_exponential_matrix\n",
    "    return y\n",
    "\n",
    "mym = np.array([[1, 2], [3, 4]])\n",
    "softmax(mym)"
   ]
  },
  {
   "cell_type": "code",
   "execution_count": 62,
   "metadata": {},
   "outputs": [],
   "source": [
    "def softmax_m(matrix) :\n",
    "    maximum_of_matrix = np.max(matrix)\n",
    "    print(maximum_of_matrix)\n",
    "    difference_from_maximum = matrix - maximum_of_matrix\n",
    "    print(difference_from_maximum)\n",
    "    exponential_of_difference = np.exp(difference_from_maximum)\n",
    "    print(exponential_of_difference)\n",
    "    sum_of_exponential = np.sum(exponential_of_difference)\n",
    "    y = exponential_of_difference / sum_of_exponential\n",
    "    return y"
   ]
  },
  {
   "cell_type": "code",
   "execution_count": 63,
   "metadata": {},
   "outputs": [
    {
     "name": "stdout",
     "output_type": "stream",
     "text": [
      "4\n",
      "[[-3 -2]\n",
      " [-1  0]]\n",
      "[[0.04978707 0.13533528]\n",
      " [0.36787944 1.        ]]\n"
     ]
    },
    {
     "data": {
      "text/plain": [
       "array([[0.0320586 , 0.08714432],\n",
       "       [0.23688282, 0.64391426]])"
      ]
     },
     "execution_count": 63,
     "metadata": {},
     "output_type": "execute_result"
    }
   ],
   "source": [
    "softmax_m(mym)"
   ]
  },
  {
   "cell_type": "code",
   "execution_count": 67,
   "metadata": {},
   "outputs": [
    {
     "name": "stdout",
     "output_type": "stream",
     "text": [
      "4.0\n",
      "[-3.7 -1.1  0. ]\n",
      "[0.02472353 0.33287108 1.        ]\n",
      "y =  [0.01821127 0.24519181 0.73659691]\n",
      "sum of y =  1.0\n"
     ]
    }
   ],
   "source": [
    "matrix = np.array([0.3, 2.9, 4.0])\n",
    "y = softmax_m(matrix)\n",
    "print(\"y = \", y)\n",
    "print(\"sum of y = \" , np.sum(y))"
   ]
  },
  {
   "cell_type": "code",
   "execution_count": null,
   "metadata": {},
   "outputs": [],
   "source": []
  }
 ],
 "metadata": {
  "kernelspec": {
   "display_name": "Python 3",
   "language": "python",
   "name": "python3"
  },
  "language_info": {
   "codemirror_mode": {
    "name": "ipython",
    "version": 3
   },
   "file_extension": ".py",
   "mimetype": "text/x-python",
   "name": "python",
   "nbconvert_exporter": "python",
   "pygments_lexer": "ipython3",
   "version": "3.7.4"
  }
 },
 "nbformat": 4,
 "nbformat_minor": 2
}
